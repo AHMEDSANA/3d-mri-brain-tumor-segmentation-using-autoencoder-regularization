{
  "nbformat": 4,
  "nbformat_minor": 0,
  "metadata": {
    "colab": {
      "name": "NVDLMED_Implementation.ipynb",
      "version": "0.3.2",
      "provenance": [],
      "collapsed_sections": [
        "zQS3CsDjJtgq"
      ],
      "include_colab_link": true
    },
    "kernelspec": {
      "name": "python3",
      "display_name": "Python 3"
    },
    "accelerator": "GPU"
  },
  "cells": [
    {
      "cell_type": "markdown",
      "metadata": {
        "id": "view-in-github",
        "colab_type": "text"
      },
      "source": [
        "<a href=\"https://colab.research.google.com/github/IAmSuyogJadhav/3d-mri-brain-tumor-segmentation-using-autoencoder-regularization/blob/master/NVDLMED_Implementation.ipynb\" target=\"_parent\"><img src=\"https://colab.research.google.com/assets/colab-badge.svg\" alt=\"Open In Colab\"/></a>"
      ]
    },
    {
      "metadata": {
        "id": "zQS3CsDjJtgq",
        "colab_type": "text"
      },
      "cell_type": "markdown",
      "source": [
        "# 3D MRI Brain Tumor Segmentation using autoencoder regularization"
      ]
    },
    {
      "metadata": {
        "id": "hkmvo0cUJ9AD",
        "colab_type": "text"
      },
      "cell_type": "markdown",
      "source": [
        "# Colab Stuff"
      ]
    },
    {
      "metadata": {
        "id": "sqx0YDzmJbr9",
        "colab_type": "code",
        "outputId": "e1a4e95c-7585-432c-a02c-5da7f67b1bf2",
        "colab": {
          "base_uri": "https://localhost:8080/",
          "height": 122
        }
      },
      "cell_type": "code",
      "source": [
        "from google.colab import drive\n",
        "drive.mount('/gdrive')"
      ],
      "execution_count": 1,
      "outputs": [
        {
          "output_type": "stream",
          "text": [
            "Go to this URL in a browser: https://accounts.google.com/o/oauth2/auth?client_id=947318989803-6bn6qk8qdgf4n4g3pfee6491hc0brc4i.apps.googleusercontent.com&redirect_uri=urn%3Aietf%3Awg%3Aoauth%3A2.0%3Aoob&scope=email%20https%3A%2F%2Fwww.googleapis.com%2Fauth%2Fdocs.test%20https%3A%2F%2Fwww.googleapis.com%2Fauth%2Fdrive%20https%3A%2F%2Fwww.googleapis.com%2Fauth%2Fdrive.photos.readonly%20https%3A%2F%2Fwww.googleapis.com%2Fauth%2Fpeopleapi.readonly&response_type=code\n",
            "\n",
            "Enter your authorization code:\n",
            "··········\n",
            "Mounted at /gdrive\n"
          ],
          "name": "stdout"
        }
      ]
    },
    {
      "metadata": {
        "id": "IB9i9EQBKEmj",
        "colab_type": "code",
        "colab": {}
      },
      "cell_type": "code",
      "source": [
        "import zipfile\n",
        "zf = zipfile.ZipFile('/gdrive/My Drive/MICCAI_BraTS_2018_Data_Training.zip')\n",
        "zf.extractall()"
      ],
      "execution_count": 0,
      "outputs": []
    },
    {
      "metadata": {
        "id": "vgXlgOcnK71x",
        "colab_type": "code",
        "outputId": "aecad354-9939-4ad3-84fd-f20ef725b3a3",
        "colab": {
          "base_uri": "https://localhost:8080/",
          "height": 224
        }
      },
      "cell_type": "code",
      "source": [
        "# Implementation og GroupNorm from https://github.com/titu1994/Keras-Group-Normalization/blob/master/group_norm.py\n",
        "!wget https://raw.githubusercontent.com/titu1994/Keras-Group-Normalization/master/group_norm.py"
      ],
      "execution_count": 2,
      "outputs": [
        {
          "output_type": "stream",
          "text": [
            "--2019-04-25 10:14:51--  https://raw.githubusercontent.com/titu1994/Keras-Group-Normalization/master/group_norm.py\n",
            "Resolving raw.githubusercontent.com (raw.githubusercontent.com)... 151.101.0.133, 151.101.64.133, 151.101.128.133, ...\n",
            "Connecting to raw.githubusercontent.com (raw.githubusercontent.com)|151.101.0.133|:443... connected.\n",
            "HTTP request sent, awaiting response... 200 OK\n",
            "Length: 7952 (7.8K) [text/plain]\n",
            "Saving to: ‘group_norm.py’\n",
            "\n",
            "\rgroup_norm.py         0%[                    ]       0  --.-KB/s               \rgroup_norm.py       100%[===================>]   7.77K  --.-KB/s    in 0s      \n",
            "\n",
            "2019-04-25 10:14:52 (113 MB/s) - ‘group_norm.py’ saved [7952/7952]\n",
            "\n"
          ],
          "name": "stdout"
        }
      ]
    },
    {
      "metadata": {
        "id": "cAad9W2AKFS2",
        "colab_type": "text"
      },
      "cell_type": "markdown",
      "source": [
        "# Imports and helper functions"
      ]
    },
    {
      "metadata": {
        "id": "RJ9GjZVyKEki",
        "colab_type": "code",
        "colab": {}
      },
      "cell_type": "code",
      "source": [
        "import keras\n",
        "import keras.backend as K\n",
        "from keras.losses import mse\n",
        "from keras.layers import *\n",
        "from keras.optimizers import adam\n",
        "from keras.models import Model, Sequential\n",
        "from group_norm import GroupNormalization"
      ],
      "execution_count": 0,
      "outputs": []
    },
    {
      "metadata": {
        "id": "bsTBv4ABKEiq",
        "colab_type": "code",
        "colab": {}
      },
      "cell_type": "code",
      "source": [
        "def green_block(inp, filters, name=None):\n",
        "    \n",
        "    inp_res = Conv3D(\n",
        "        filters=filters,\n",
        "        kernel_size=(1, 1, 1),\n",
        "        strides=1,\n",
        "        data_format='channels_first',\n",
        "        name=f'Res_{name}' if name else None)(inp)\n",
        "\n",
        "    # axis=1, because we have channels_first data format\n",
        "    # No. of groups = 8, as given in the paper\n",
        "    x = GroupNormalization(\n",
        "        groups=8,\n",
        "        axis=1,\n",
        "        name=f'GroupNorm_1_{name}' if name else None)(inp)\n",
        "    x = Activation('relu', name=f'Relu_1_{name}' if name else None)(x)\n",
        "    x = Conv3D(\n",
        "        filters=filters,\n",
        "        kernel_size=(3, 3, 3),\n",
        "        strides=1,\n",
        "        padding='same',\n",
        "        data_format='channels_first',\n",
        "        name=f'Conv3D_1_{name}' if name else None)(x)\n",
        "\n",
        "    x = GroupNormalization(\n",
        "        groups=8,\n",
        "        axis=1,\n",
        "        name=f'GroupNorm_2_{name}' if name else None)(x)\n",
        "    x = Activation('relu', name=f'Relu_2_{name}' if name else None)(x)\n",
        "    x = Conv3D(\n",
        "        filters=filters,\n",
        "        kernel_size=(3, 3, 3),\n",
        "        strides=1,\n",
        "        padding='same',\n",
        "        data_format='channels_first',\n",
        "        name=f'Conv3D_2_{name}' if name else None)(x)\n",
        "\n",
        "    out = Add(name=f'Out_{name}' if name else None)([x, inp_res])\n",
        "\n",
        "    return out"
      ],
      "execution_count": 0,
      "outputs": []
    },
    {
      "metadata": {
        "id": "K6k6kg-QylA3",
        "colab_type": "code",
        "colab": {}
      },
      "cell_type": "code",
      "source": [
        "def sampling(args):\n",
        "    \"\"\"Reparameterization trick by sampling from an isotropic unit Gaussian.\n",
        "    # Arguments\n",
        "        args (tensor): mean and log of variance of Q(z|X)\n",
        "    # Returns\n",
        "        z (tensor): sampled latent vector\n",
        "    \"\"\"\n",
        "\n",
        "    args = z_mean, z_var\n",
        "    batch = K.shape(z_mean)[0]\n",
        "    dim = K.int_shape(z_mean)[1]\n",
        "    # by default, random_normal has mean = 0 and std = 1.0\n",
        "    epsilon = K.random_normal(shape=(batch, dim))\n",
        "    return z_mean + K.exp(0.5 * z_var) * epsilon"
      ],
      "execution_count": 0,
      "outputs": []
    },
    {
      "metadata": {
        "id": "ynIuxlblKK8L",
        "colab_type": "text"
      },
      "cell_type": "markdown",
      "source": [
        "# Model\n",
        "\n",
        "## TODO: \n",
        "- Loss function - <br />\n",
        "L = L<sub>dice</sub> + 0.1 ∗ L<sub>L2</sub> + 0.1 ∗ L<sub>KL</sub> \n",
        "\n",
        "![The model architecture](https://suyogjadhav.com/images/misc/brats2018_sota_model.png)\n",
        "<center><b>The Model Architecture</b><br />Source: https://arxiv.org/pdf/1810.11654.pdf</center>\n",
        "\n",
        "<hr />\n",
        "![The Decoder Structure](https://dev.suyogjadhav.com/images/misc/brats2018_sota_decoder.png)\n",
        "<center><b>The Decoder Structure</b><br />Source: https://arxiv.org/pdf/1810.11654.pdf</center>"
      ]
    },
    {
      "metadata": {
        "id": "thaZgcWghK7d",
        "colab_type": "text"
      },
      "cell_type": "markdown",
      "source": [
        "## The model"
      ]
    },
    {
      "metadata": {
        "id": "jzJJWIfX6kQ0",
        "colab_type": "code",
        "colab": {}
      },
      "cell_type": "code",
      "source": [
        "def loss(input_shape, inp, out_VAE, z_mean, z_var, eps=1e-8):\n",
        "    # -------------------------------------------------------------------------\n",
        "    \n",
        "    # Combined Loss\n",
        "    \n",
        "    # -------------------------------------------------------------------------\n",
        "    c, H, W, D = input_shape\n",
        "    n = c * H * W * D\n",
        "    \n",
        "    loss_L2 = mse(inp, out_VAE)\n",
        "    \n",
        "    loss_KL = (1 / n) * K.sum(\n",
        "        K.square(z_mean) + z_var - K.log(z_var) - 1,\n",
        "        axis=-1\n",
        "    )\n",
        "    \n",
        "    def loss_(y_true, y_pred):\n",
        "        y_true_f = K.flatten(y_true)\n",
        "        y_pred_f = K.flatten(y_pred)\n",
        "        intersection = K.sum(K.abs(y_true_f * y_pred_f), axis=-1)\n",
        "        loss_dice = (2. * intersection) / (\n",
        "            K.sum(K.square(y_true_f),-1) + K.sum(K.square(y_pred_f),-1) + eps)\n",
        "        \n",
        "        return loss_dice + 0.1 * loss_L2 + 0.1 * loss_KL\n",
        "    \n",
        "    return loss_        "
      ],
      "execution_count": 0,
      "outputs": []
    },
    {
      "metadata": {
        "id": "i8ZUQL66KLla",
        "colab_type": "code",
        "colab": {}
      },
      "cell_type": "code",
      "source": [
        "input_shape = (4, 160, 192, 128)\n",
        "\n",
        "def build_model(input_shape=(4, 160, 192, 128)):\n",
        "    \"\"\"\n",
        "    build_model(input_shape=(4, 160, 192, 128))\n",
        "    Creates the model used in the BRATS2018 winning solution\n",
        "    by Myronenko et. al. (https://arxiv.org/pdf/1810.11654.pdf)\n",
        "\n",
        "    Args\n",
        "    ----\n",
        "      input_shape: A 4-tuple, optional.\n",
        "        Shape of the input image. Must be a 4D image of shape (c, H, W, D),\n",
        "        where, each of H, W and D are divisible by 2^4.\n",
        "    \"\"\"\n",
        "    assert len(input_shape) == 4, \"Input shape must be a 4-tuple\"\n",
        "    assert H%16 && W%16 && D%16, \"All the input dimensions must be divisible by 16\"\n",
        "\n",
        "\n",
        "    # -------------------------------------------------------------------------\n",
        "\n",
        "    # Encoder\n",
        "\n",
        "    # -------------------------------------------------------------------------\n",
        "\n",
        "    ## Input\n",
        "    inp = Input(input_shape)\n",
        "\n",
        "    ## Initial Blue Block\n",
        "    x = Conv3D(\n",
        "        filters=32,\n",
        "        kernel_size=(3, 3, 3),\n",
        "        strides=1,\n",
        "        padding='same',\n",
        "        data_format='channels_first',\n",
        "        name='Input_x1')(inp)\n",
        "\n",
        "    ## Dropout (0.2)\n",
        "    x = Dropout(0.2)(x)\n",
        "\n",
        "    ## Green Blocks x1 (output filters = 32)\n",
        "    x1 = green_block(x, 32, name='x1')\n",
        "    x = Conv3D(\n",
        "        filters=32,\n",
        "        kernel_size=(3, 3, 3),\n",
        "        strides=2,\n",
        "        padding='same',\n",
        "        data_format='channels_first',\n",
        "        name='Enc_DownSample_32')(x1)\n",
        "\n",
        "    ## Green Blocks x2 (output filters = 64)\n",
        "    x = green_block(x, 64, name='Enc_64_1')\n",
        "    x2 = green_block(x, 64, name='x2')\n",
        "    x = Conv3D(\n",
        "        filters=64,\n",
        "        kernel_size=(3, 3, 3),\n",
        "        strides=2,\n",
        "        padding='same',\n",
        "        data_format='channels_first',\n",
        "        name='Enc_DownSample_64')(x2)\n",
        "\n",
        "    ## Green Blocks x2 (output filters = 128)\n",
        "    x = green_block(x, 128, name='Enc_128_1')\n",
        "    x3 = green_block(x, 128, name='x3')\n",
        "    x = Conv3D(\n",
        "        filters=128,\n",
        "        kernel_size=(3, 3, 3),\n",
        "        strides=2,\n",
        "        padding='same',\n",
        "        data_format='channels_first',\n",
        "        name='Enc_DownSample_128')(x3)\n",
        "\n",
        "    ## Green Blocks x4 (output filters = 256)\n",
        "    x = green_block(x, 256, name='Enc_256_1')\n",
        "    x = green_block(x, 256, name='Enc_256_2')\n",
        "    x = green_block(x, 256, name='Enc_256_3')\n",
        "    x4 = green_block(x, 256, name='x4')\n",
        "\n",
        "    # -------------------------------------------------------------------------\n",
        "\n",
        "    # Decoder\n",
        "\n",
        "    # -------------------------------------------------------------------------\n",
        "\n",
        "    ## GT (Groud Truth) Part\n",
        "    # -------------------------------------------------------------------------\n",
        "\n",
        "    ### Green Block x1 (output filters=128)\n",
        "    x = Conv3D(\n",
        "        filters=128,\n",
        "        kernel_size=(1, 1, 1),\n",
        "        strides=1,\n",
        "        data_format='channels_first',\n",
        "        name='Dec_GT_ReduceDepth_128')(x4)\n",
        "    x = UpSampling3D(\n",
        "        size=2,\n",
        "        data_format='channels_first',\n",
        "        name='Dec_GT_UpSample_128')(x)\n",
        "    x = Add(name='Input_Dec_GT_128')([x, x3])\n",
        "    x = green_block(x, 128, name='Dec_GT_128')\n",
        "\n",
        "    ### Green Block x1 (output filters=64)\n",
        "    x = Conv3D(\n",
        "        filters=64,\n",
        "        kernel_size=(1, 1, 1),\n",
        "        strides=1,\n",
        "        data_format='channels_first',\n",
        "        name='Dec_GT_ReduceDepth_64')(x)\n",
        "    x = UpSampling3D(\n",
        "        size=2,\n",
        "        data_format='channels_first',\n",
        "        name='Dec_GT_UpSample_64')(x)\n",
        "    x = Add(name='Input_Dec_GT_64')([x, x2])\n",
        "    x = green_block(x, 64, name='Dec_GT_64')\n",
        "\n",
        "    ### Green Block x1 (output filters=32)\n",
        "    x = Conv3D(\n",
        "        filters=32,\n",
        "        kernel_size=(1, 1, 1),\n",
        "        strides=1,\n",
        "        data_format='channels_first',\n",
        "        name='Dec_GT_ReduceDepth_32')(x)\n",
        "    x = UpSampling3D(\n",
        "        size=2,\n",
        "        data_format='channels_first',\n",
        "        name='Dec_GT_UpSample_32')(x)\n",
        "    x = Add(name='Input_Dec_GT_32')([x, x1])\n",
        "    x = green_block(x, 32, name='Dec_GT_32')\n",
        "\n",
        "    ### Blue Block x1 (output filters=32)\n",
        "    x = Conv3D(\n",
        "        filters=32,\n",
        "        kernel_size=(3, 3, 3),\n",
        "        strides=1,\n",
        "        padding='same',\n",
        "        data_format='channels_first',\n",
        "        name='Input_Dec_GT_Output')(x)\n",
        "\n",
        "    ### Output Block\n",
        "    out_GT = Conv3D(\n",
        "        filters=3,  # No. of tumor classes is 3\n",
        "        kernel_size=(1, 1, 1),\n",
        "        strides=1,\n",
        "        data_format='channels_first',\n",
        "        activation='sigmoid',\n",
        "        name='Dec_GT_Output')(x)\n",
        "\n",
        "    # -------------------------------------------------------------------------\n",
        "\n",
        "    ## VAE (Variational Auto Encoder) Part\n",
        "    # -------------------------------------------------------------------------\n",
        "\n",
        "    ### VD Block (Reducing dimensionality of the data)\n",
        "    x = GroupNormalization(groups=8, axis=1, name='Dec_VAE_VD_GN')(x4)\n",
        "    x = Activation('relu', name='Dec_VAE_VD_relu')(x)\n",
        "    x = Conv3D(\n",
        "        filters=16,\n",
        "        kernel_size=(3, 3, 3),\n",
        "        strides=2,\n",
        "        padding='same',\n",
        "        data_format='channels_first',\n",
        "        name='Dec_VAE_VD_Conv3D')(x)\n",
        "\n",
        "    # Not mentioned in the paper, but the author did use a Flattening layer.\n",
        "    x = Flatten(name='Dec_VAE_VD_Flatten')(x)\n",
        "    x = Dense(256, name='Dec_VAE_VD_Dense')(x)\n",
        "\n",
        "    ### VDraw Block (Sampling)\n",
        "    z_mean = Dense(128, name='Dec_VAE_VDraw_Mean')(x)\n",
        "    z_var = Dense(128, name='Dec_VAE_VDraw_Var')(x)\n",
        "    x = Lambda(sampling, name='Dec_VAE_VDraw_Sampling')([z_mean, z_var])\n",
        "\n",
        "    ### VU Block (Upsizing back to a depth of 256)\n",
        "    x = Dense(1 * 10 * 12 * 8)(x)\n",
        "    x = Activation('relu')(x)\n",
        "    x = Reshape((1, 10, 12, 8))(x)\n",
        "    x = Conv3D(\n",
        "        filters=256,\n",
        "        kernel_size=(1, 1, 1),\n",
        "        strides=1,\n",
        "        data_format='channels_first',\n",
        "        name='Dec_VAE_ReduceDepth_256')(x)\n",
        "    x = UpSampling3D(\n",
        "        size=2,\n",
        "        data_format='channels_first',\n",
        "        name='Dec_VAE_UpSample_256')(x)\n",
        "\n",
        "    ### Green Block x1 (output filters=128)\n",
        "    x = Conv3D(\n",
        "        filters=128,\n",
        "        kernel_size=(1, 1, 1),\n",
        "        strides=1,\n",
        "        data_format='channels_first',\n",
        "        name='Dec_VAE_ReduceDepth_128')(x)\n",
        "    x = UpSampling3D(\n",
        "        size=2,\n",
        "        data_format='channels_first',\n",
        "        name='Dec_VAE_UpSample_128')(x)\n",
        "    x = green_block(x, 128, name='Dec_VAE_128')\n",
        "\n",
        "    ### Green Block x1 (output filters=64)\n",
        "    x = Conv3D(\n",
        "        filters=64,\n",
        "        kernel_size=(1, 1, 1),\n",
        "        strides=1,\n",
        "        data_format='channels_first',\n",
        "        name='Dec_VAE_ReduceDepth_64')(x)\n",
        "    x = UpSampling3D(\n",
        "        size=2,\n",
        "        data_format='channels_first',\n",
        "        name='Dec_VAE_UpSample_64')(x)\n",
        "    x = green_block(x, 64, name='Dec_VAE_64')\n",
        "\n",
        "    ### Green Block x1 (output filters=32)\n",
        "    x = Conv3D(\n",
        "        filters=32,\n",
        "        kernel_size=(1, 1, 1),\n",
        "        strides=1,\n",
        "        data_format='channels_first',\n",
        "        name='Dec_VAE_ReduceDepth_32')(x)\n",
        "    x = UpSampling3D(\n",
        "        size=2,\n",
        "        data_format='channels_first',\n",
        "        name='Dec_VAE_UpSample_32')(x)\n",
        "    x = green_block(x, 32, name='Dec_VAE_32')\n",
        "\n",
        "    ### Blue Block x1 (output filters=32)\n",
        "    x = Conv3D(\n",
        "        filters=32,\n",
        "        kernel_size=(3, 3, 3),\n",
        "        strides=1,\n",
        "        padding='same',\n",
        "        data_format='channels_first',\n",
        "        name='Input_Dec_VAE_Output')(x)\n",
        "\n",
        "    ### Output Block\n",
        "    out_VAE = Conv3D(\n",
        "        filters=4,\n",
        "        kernel_size=(1, 1, 1),\n",
        "        strides=1,\n",
        "        data_format='channels_first',\n",
        "        name='Dec_VAE_Output')(x)\n",
        "\n",
        "    # Build and Compile the model\n",
        "    out = out_GT\n",
        "    model = Model(inp, out)  # Create the model\n",
        "    model.compile(\n",
        "        adam(lr=1e-4),\n",
        "        loss(input_shape, inp, out_VAE, z_mean, z_var),\n",
        "        metrics=['accuracy']\n",
        "    )\n",
        "    \n",
        "    return model"
      ],
      "execution_count": 0,
      "outputs": []
    },
    {
      "metadata": {
        "id": "uVLaKUMwKtqk",
        "colab_type": "code",
        "colab": {}
      },
      "cell_type": "code",
      "source": [
        ""
      ],
      "execution_count": 0,
      "outputs": []
    }
  ]
}